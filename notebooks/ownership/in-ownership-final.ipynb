{
 "cells": [
  {
   "cell_type": "markdown",
   "id": "69251a9d",
   "metadata": {},
   "source": [
    "# Clean up Indiana Ownership Data\n",
    "\n",
    "In Indiana the name of the facility is the name of the legal owner. This makes it easy to determine which company ran the facility."
   ]
  },
  {
   "cell_type": "code",
   "execution_count": 1,
   "id": "a5b380ed",
   "metadata": {},
   "outputs": [],
   "source": [
    "import pandas as pd"
   ]
  },
  {
   "cell_type": "code",
   "execution_count": 2,
   "id": "3dfffbf5",
   "metadata": {},
   "outputs": [],
   "source": [
    "in_facs = (\n",
    "    pd\n",
    "    .read_csv(\"../../data/qcor/facilities.csv\")\n",
    "    .loc[lambda x: (x[\"state\"] == \"IN\") & \n",
    "         (\n",
    "             x[\"termination_date\"].isnull() |\n",
    "             (x[\"termination_date\"] >= \"2017-03-01\")\n",
    "         )]\n",
    "    .assign(legal_owner = lambda df: df[\"name\"])\n",
    ")"
   ]
  },
  {
   "cell_type": "code",
   "execution_count": 3,
   "id": "4911641f",
   "metadata": {},
   "outputs": [
    {
     "data": {
      "text/plain": [
       "484"
      ]
     },
     "execution_count": 3,
     "metadata": {},
     "output_type": "execute_result"
    }
   ],
   "source": [
    "len(in_facs)"
   ]
  },
  {
   "cell_type": "code",
   "execution_count": 4,
   "id": "8d668127",
   "metadata": {},
   "outputs": [
    {
     "data": {
      "text/html": [
       "<div>\n",
       "<style scoped>\n",
       "    .dataframe tbody tr th:only-of-type {\n",
       "        vertical-align: middle;\n",
       "    }\n",
       "\n",
       "    .dataframe tbody tr th {\n",
       "        vertical-align: top;\n",
       "    }\n",
       "\n",
       "    .dataframe thead th {\n",
       "        text-align: right;\n",
       "    }\n",
       "</style>\n",
       "<table border=\"1\" class=\"dataframe\">\n",
       "  <thead>\n",
       "    <tr style=\"text-align: right;\">\n",
       "      <th></th>\n",
       "      <th>name</th>\n",
       "      <th>provider_id</th>\n",
       "      <th>type</th>\n",
       "      <th>region</th>\n",
       "      <th>state</th>\n",
       "      <th>address</th>\n",
       "      <th>phone</th>\n",
       "      <th>particip_date</th>\n",
       "      <th>certified_beds</th>\n",
       "      <th>hospital_based</th>\n",
       "      <th>ownership_type</th>\n",
       "      <th>termination_code</th>\n",
       "      <th>termination_date</th>\n",
       "      <th>legal_owner</th>\n",
       "    </tr>\n",
       "  </thead>\n",
       "  <tbody>\n",
       "    <tr>\n",
       "      <th>1456</th>\n",
       "      <td>BENCHMARK HUMAN SERVICES</td>\n",
       "      <td>15G013</td>\n",
       "      <td>Intermediate Care Facilities for Individuals w...</td>\n",
       "      <td>(V) Chicago</td>\n",
       "      <td>IN</td>\n",
       "      <td>817 MENDLESON DR\\nRICHMOND, IN 47374</td>\n",
       "      <td>260 744-6145</td>\n",
       "      <td>1980-01-01</td>\n",
       "      <td>8</td>\n",
       "      <td>No</td>\n",
       "      <td>Non-Profit</td>\n",
       "      <td>NaN</td>\n",
       "      <td>NaN</td>\n",
       "      <td>BENCHMARK HUMAN SERVICES</td>\n",
       "    </tr>\n",
       "    <tr>\n",
       "      <th>1457</th>\n",
       "      <td>ADEC INC</td>\n",
       "      <td>15G017</td>\n",
       "      <td>Intermediate Care Facilities for Individuals w...</td>\n",
       "      <td>(V) Chicago</td>\n",
       "      <td>IN</td>\n",
       "      <td>19816-3 SR 120\\nBRISTOL, IN 46507</td>\n",
       "      <td>574 848-7453</td>\n",
       "      <td>1980-01-01</td>\n",
       "      <td>8</td>\n",
       "      <td>No</td>\n",
       "      <td>Non-Profit</td>\n",
       "      <td>NaN</td>\n",
       "      <td>NaN</td>\n",
       "      <td>ADEC INC</td>\n",
       "    </tr>\n",
       "    <tr>\n",
       "      <th>1458</th>\n",
       "      <td>ADEC INC</td>\n",
       "      <td>15G024</td>\n",
       "      <td>Intermediate Care Facilities for Individuals w...</td>\n",
       "      <td>(V) Chicago</td>\n",
       "      <td>IN</td>\n",
       "      <td>807 MOTTVILLE RD (ST ROAD 15 N)\\nBRISTOL, IN 4...</td>\n",
       "      <td>574 848-7451</td>\n",
       "      <td>1980-01-01</td>\n",
       "      <td>8</td>\n",
       "      <td>No</td>\n",
       "      <td>Non-Profit</td>\n",
       "      <td>NaN</td>\n",
       "      <td>NaN</td>\n",
       "      <td>ADEC INC</td>\n",
       "    </tr>\n",
       "    <tr>\n",
       "      <th>1459</th>\n",
       "      <td>ADEC INC</td>\n",
       "      <td>15G030</td>\n",
       "      <td>Intermediate Care Facilities for Individuals w...</td>\n",
       "      <td>(V) Chicago</td>\n",
       "      <td>IN</td>\n",
       "      <td>603 HIGHLAND\\nMIDDLEBURY, IN 46540</td>\n",
       "      <td>574 848-7451</td>\n",
       "      <td>1980-09-01</td>\n",
       "      <td>8</td>\n",
       "      <td>No</td>\n",
       "      <td>Non-Profit</td>\n",
       "      <td>NaN</td>\n",
       "      <td>NaN</td>\n",
       "      <td>ADEC INC</td>\n",
       "    </tr>\n",
       "    <tr>\n",
       "      <th>1460</th>\n",
       "      <td>PATHFINDER SERVICES INC</td>\n",
       "      <td>15G032</td>\n",
       "      <td>Intermediate Care Facilities for Individuals w...</td>\n",
       "      <td>(V) Chicago</td>\n",
       "      <td>IN</td>\n",
       "      <td>2 WILLIAMS DRIVE\\nWABASH, IN 46992</td>\n",
       "      <td>800 833-1571</td>\n",
       "      <td>1980-09-01</td>\n",
       "      <td>7</td>\n",
       "      <td>No</td>\n",
       "      <td>Non-Profit</td>\n",
       "      <td>NaN</td>\n",
       "      <td>NaN</td>\n",
       "      <td>PATHFINDER SERVICES INC</td>\n",
       "    </tr>\n",
       "  </tbody>\n",
       "</table>\n",
       "</div>"
      ],
      "text/plain": [
       "                          name provider_id  \\\n",
       "1456  BENCHMARK HUMAN SERVICES      15G013   \n",
       "1457                  ADEC INC      15G017   \n",
       "1458                  ADEC INC      15G024   \n",
       "1459                  ADEC INC      15G030   \n",
       "1460   PATHFINDER SERVICES INC      15G032   \n",
       "\n",
       "                                                   type       region state  \\\n",
       "1456  Intermediate Care Facilities for Individuals w...  (V) Chicago    IN   \n",
       "1457  Intermediate Care Facilities for Individuals w...  (V) Chicago    IN   \n",
       "1458  Intermediate Care Facilities for Individuals w...  (V) Chicago    IN   \n",
       "1459  Intermediate Care Facilities for Individuals w...  (V) Chicago    IN   \n",
       "1460  Intermediate Care Facilities for Individuals w...  (V) Chicago    IN   \n",
       "\n",
       "                                                address         phone  \\\n",
       "1456               817 MENDLESON DR\\nRICHMOND, IN 47374  260 744-6145   \n",
       "1457                  19816-3 SR 120\\nBRISTOL, IN 46507  574 848-7453   \n",
       "1458  807 MOTTVILLE RD (ST ROAD 15 N)\\nBRISTOL, IN 4...  574 848-7451   \n",
       "1459                 603 HIGHLAND\\nMIDDLEBURY, IN 46540  574 848-7451   \n",
       "1460                 2 WILLIAMS DRIVE\\nWABASH, IN 46992  800 833-1571   \n",
       "\n",
       "     particip_date  certified_beds hospital_based ownership_type  \\\n",
       "1456    1980-01-01               8             No     Non-Profit   \n",
       "1457    1980-01-01               8             No     Non-Profit   \n",
       "1458    1980-01-01               8             No     Non-Profit   \n",
       "1459    1980-09-01               8             No     Non-Profit   \n",
       "1460    1980-09-01               7             No     Non-Profit   \n",
       "\n",
       "     termination_code termination_date               legal_owner  \n",
       "1456              NaN              NaN  BENCHMARK HUMAN SERVICES  \n",
       "1457              NaN              NaN                  ADEC INC  \n",
       "1458              NaN              NaN                  ADEC INC  \n",
       "1459              NaN              NaN                  ADEC INC  \n",
       "1460              NaN              NaN   PATHFINDER SERVICES INC  "
      ]
     },
     "execution_count": 4,
     "metadata": {},
     "output_type": "execute_result"
    }
   ],
   "source": [
    "in_facs.head()"
   ]
  },
  {
   "cell_type": "code",
   "execution_count": 5,
   "id": "49713fd8",
   "metadata": {},
   "outputs": [
    {
     "data": {
      "text/plain": [
       "BENCHMARK HUMAN SERVICES                        44\n",
       "REM-INDIANA INC                                 36\n",
       "VOCA CORPORATION OF INDIANA                     27\n",
       "NORMAL LIFE OF INDIANA                          23\n",
       "REM OCCAZIO LLC                                 17\n",
       "DEVELOPMENTAL SERVICE ALTERNATIVES              16\n",
       "TRANSITIONAL SERVICES SUB LLC                   16\n",
       "DUNGARVIN INDIANA LLC                           15\n",
       "RES CARE COMMUNITY ALTERNATIVES SE IN           15\n",
       "RESIDENTIAL CRF INC                             15\n",
       "ADEC INC                                        14\n",
       "PATHFINDER SERVICES INC                         14\n",
       "CARDINAL SERVICES INC OF INDIANA                14\n",
       "COMMUNITY ALTERNATIVES SW IN                    13\n",
       "NEW HOPE OF INDIANA, INC                        11\n",
       "STONE BELT ARC INC                              11\n",
       "MOSAIC                                          10\n",
       "REHABILITATION CENTER DEVELOPMENTAL SERVICES     9\n",
       "IN-PACT INC                                      9\n",
       "DEVELOPMENTAL SERVICES INC                       9\n",
       "Name: legal_owner, dtype: int64"
      ]
     },
     "execution_count": 5,
     "metadata": {},
     "output_type": "execute_result"
    }
   ],
   "source": [
    "in_facs[\"legal_owner\"].value_counts().head(20)"
   ]
  },
  {
   "cell_type": "code",
   "execution_count": 6,
   "id": "58763b23",
   "metadata": {},
   "outputs": [],
   "source": [
    "brightspring_names = [\n",
    "    \"VOCA CORPORATION OF INDIANA\",\n",
    "    \"NORMAL LIFE OF INDIANA\",\n",
    "    \"RES CARE COMMUNITY ALTERNATIVES SE IN\",\n",
    "    \"COMMUNITY ALTERNATIVES SW IN\",\n",
    "    \"RES CARE SOUTHEAST INDIANA\",\n",
    "    \"COMMUNITY ALTERNATIVES- ADEPT\",\n",
    "    \"RES CARE COMMUNITY ALTERNATIVES SOUTH CENTRAL\",\n",
    "    \"RES-CARE INC\",\n",
    "    \"COMMUNITY ALTERNATIVES-ADEPT\",\n",
    "    \"COMMUNITY ALTERNATIVES ADEPT\",\n",
    "    \"COMMUNITY ALTERNATIVES INDIANA INC\"\n",
    "]"
   ]
  },
  {
   "cell_type": "code",
   "execution_count": 7,
   "id": "989e7840",
   "metadata": {},
   "outputs": [],
   "source": [
    "(\n",
    "    in_facs\n",
    "    .assign(is_brightspring = lambda df: df[\"legal_owner\"].isin(brightspring_names))\n",
    ")[[\n",
    "    \"name\", \"provider_id\", \"type\", \"region\", \"state\", \"address\",\n",
    "    \"phone\", \"address\", \"particip_date\", \"certified_beds\",\n",
    "    \"hospital_based\", \"ownership_type\", \"termination_code\",\n",
    "    \"termination_date\", \"legal_owner\", \"is_brightspring\"\n",
    "]].to_csv(\"../../data/ownership/final/in.csv\",index=None)"
   ]
  },
  {
   "cell_type": "markdown",
   "id": "da00d602",
   "metadata": {},
   "source": [
    "---\n",
    "\n",
    "---\n",
    "\n",
    "---"
   ]
  }
 ],
 "metadata": {
  "kernelspec": {
   "display_name": "Python 3 (ipykernel)",
   "language": "python",
   "name": "python3"
  },
  "language_info": {
   "codemirror_mode": {
    "name": "ipython",
    "version": 3
   },
   "file_extension": ".py",
   "mimetype": "text/x-python",
   "name": "python",
   "nbconvert_exporter": "python",
   "pygments_lexer": "ipython3",
   "version": "3.8.1"
  }
 },
 "nbformat": 4,
 "nbformat_minor": 5
}
