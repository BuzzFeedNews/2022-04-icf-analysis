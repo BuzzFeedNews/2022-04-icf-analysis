{
 "cells": [
  {
   "cell_type": "markdown",
   "id": "f8b3224d",
   "metadata": {},
   "source": [
    "# Clean up Ohio Ownership Data\n",
    "\n",
    "The ownership data for Ohio facilities was parsed from the 2016 to 2020 Ohio cost reports we received through a records request. Those reports gave us ownership data and changes as a granular level. The ownership information that was gathered from those cost reports is then combined with the data from QCOR. In addition, Ohio provided additional ownership information about some facilities. That information is also incorporated below."
   ]
  },
  {
   "cell_type": "code",
   "execution_count": 1,
   "id": "6f99d341",
   "metadata": {},
   "outputs": [],
   "source": [
    "import pandas as pd"
   ]
  },
  {
   "cell_type": "markdown",
   "id": "392ec7ba",
   "metadata": {},
   "source": [
    "## Ohio Data"
   ]
  },
  {
   "cell_type": "code",
   "execution_count": 2,
   "id": "b9b80103",
   "metadata": {},
   "outputs": [],
   "source": [
    "RAW_OWNERSHIP_DIR = \"../../data/ownership/raw/\"\n",
    "INTERMEDIATE_OWNERSHIP_DIR = \"../../data/ownership/intermediate/\""
   ]
  },
  {
   "cell_type": "code",
   "execution_count": 3,
   "id": "172b4a7d",
   "metadata": {},
   "outputs": [],
   "source": [
    "state = pd.read_csv(INTERMEDIATE_OWNERSHIP_DIR + \"ohio-ownership-from-cost-reports.csv\")"
   ]
  },
  {
   "cell_type": "code",
   "execution_count": 4,
   "id": "a7404256",
   "metadata": {},
   "outputs": [
    {
     "data": {
      "text/html": [
       "<div>\n",
       "<style scoped>\n",
       "    .dataframe tbody tr th:only-of-type {\n",
       "        vertical-align: middle;\n",
       "    }\n",
       "\n",
       "    .dataframe tbody tr th {\n",
       "        vertical-align: top;\n",
       "    }\n",
       "\n",
       "    .dataframe thead th {\n",
       "        text-align: right;\n",
       "    }\n",
       "</style>\n",
       "<table border=\"1\" class=\"dataframe\">\n",
       "  <thead>\n",
       "    <tr style=\"text-align: right;\">\n",
       "      <th></th>\n",
       "      <th>MEDICARE_PROV_NUM</th>\n",
       "      <th>legal_owner</th>\n",
       "      <th>date_acquired</th>\n",
       "      <th>is_mentor</th>\n",
       "      <th>is_brightspring</th>\n",
       "    </tr>\n",
       "  </thead>\n",
       "  <tbody>\n",
       "    <tr>\n",
       "      <th>0</th>\n",
       "      <td>36G447</td>\n",
       "      <td>BrightSpring</td>\n",
       "      <td>NaN</td>\n",
       "      <td>False</td>\n",
       "      <td>True</td>\n",
       "    </tr>\n",
       "    <tr>\n",
       "      <th>1</th>\n",
       "      <td>36G261</td>\n",
       "      <td>WERNER HOME</td>\n",
       "      <td>NaN</td>\n",
       "      <td>False</td>\n",
       "      <td>False</td>\n",
       "    </tr>\n",
       "    <tr>\n",
       "      <th>2</th>\n",
       "      <td>36G458</td>\n",
       "      <td>ROSE-MARY GRAND HOUSE</td>\n",
       "      <td>NaN</td>\n",
       "      <td>False</td>\n",
       "      <td>False</td>\n",
       "    </tr>\n",
       "    <tr>\n",
       "      <th>3</th>\n",
       "      <td>36G440</td>\n",
       "      <td>NCC ROYALTON HOUSE</td>\n",
       "      <td>NaN</td>\n",
       "      <td>False</td>\n",
       "      <td>False</td>\n",
       "    </tr>\n",
       "    <tr>\n",
       "      <th>4</th>\n",
       "      <td>36G448</td>\n",
       "      <td>Mentor</td>\n",
       "      <td>01/01/2020</td>\n",
       "      <td>True</td>\n",
       "      <td>False</td>\n",
       "    </tr>\n",
       "  </tbody>\n",
       "</table>\n",
       "</div>"
      ],
      "text/plain": [
       "  MEDICARE_PROV_NUM            legal_owner date_acquired  is_mentor  \\\n",
       "0            36G447           BrightSpring           NaN      False   \n",
       "1            36G261            WERNER HOME           NaN      False   \n",
       "2            36G458  ROSE-MARY GRAND HOUSE           NaN      False   \n",
       "3            36G440     NCC ROYALTON HOUSE           NaN      False   \n",
       "4            36G448                 Mentor    01/01/2020       True   \n",
       "\n",
       "   is_brightspring  \n",
       "0             True  \n",
       "1            False  \n",
       "2            False  \n",
       "3            False  \n",
       "4            False  "
      ]
     },
     "execution_count": 4,
     "metadata": {},
     "output_type": "execute_result"
    }
   ],
   "source": [
    "state.head()"
   ]
  },
  {
   "cell_type": "code",
   "execution_count": 5,
   "id": "68db82b9",
   "metadata": {},
   "outputs": [
    {
     "data": {
      "text/plain": [
       "486"
      ]
     },
     "execution_count": 5,
     "metadata": {},
     "output_type": "execute_result"
    }
   ],
   "source": [
    "len(state)"
   ]
  },
  {
   "cell_type": "markdown",
   "id": "1d4b2efa",
   "metadata": {},
   "source": [
    "## QCOR in Ohio"
   ]
  },
  {
   "cell_type": "code",
   "execution_count": 6,
   "id": "53fe389a",
   "metadata": {},
   "outputs": [],
   "source": [
    "oh_facs = (\n",
    "    pd\n",
    "    .read_csv(\"../../data/qcor/facilities.csv\")\n",
    "    .loc[\n",
    "        lambda x: (x[\"state\"] == \"OH\") & \n",
    "        (x[\"termination_date\"].isnull() | (x[\"termination_date\"] >= \"2017-03-01\"))\n",
    "    ]\n",
    ")"
   ]
  },
  {
   "cell_type": "code",
   "execution_count": 7,
   "id": "cd9b3cd8",
   "metadata": {},
   "outputs": [
    {
     "data": {
      "text/plain": [
       "487"
      ]
     },
     "execution_count": 7,
     "metadata": {},
     "output_type": "execute_result"
    }
   ],
   "source": [
    "len(oh_facs)"
   ]
  },
  {
   "cell_type": "code",
   "execution_count": 8,
   "id": "115c1543",
   "metadata": {},
   "outputs": [
    {
     "data": {
      "text/html": [
       "<div>\n",
       "<style scoped>\n",
       "    .dataframe tbody tr th:only-of-type {\n",
       "        vertical-align: middle;\n",
       "    }\n",
       "\n",
       "    .dataframe tbody tr th {\n",
       "        vertical-align: top;\n",
       "    }\n",
       "\n",
       "    .dataframe thead th {\n",
       "        text-align: right;\n",
       "    }\n",
       "</style>\n",
       "<table border=\"1\" class=\"dataframe\">\n",
       "  <thead>\n",
       "    <tr style=\"text-align: right;\">\n",
       "      <th></th>\n",
       "      <th>name</th>\n",
       "      <th>provider_id</th>\n",
       "      <th>type</th>\n",
       "      <th>region</th>\n",
       "      <th>state</th>\n",
       "      <th>address</th>\n",
       "      <th>phone</th>\n",
       "      <th>particip_date</th>\n",
       "      <th>certified_beds</th>\n",
       "      <th>hospital_based</th>\n",
       "      <th>ownership_type</th>\n",
       "      <th>termination_code</th>\n",
       "      <th>termination_date</th>\n",
       "    </tr>\n",
       "  </thead>\n",
       "  <tbody>\n",
       "    <tr>\n",
       "      <th>4316</th>\n",
       "      <td>MANOR HOME</td>\n",
       "      <td>36G005</td>\n",
       "      <td>Intermediate Care Facilities for Individuals w...</td>\n",
       "      <td>(V) Chicago</td>\n",
       "      <td>OH</td>\n",
       "      <td>246 N BROADWAY\\nGENEVA, OH 44041</td>\n",
       "      <td>440 466-1808</td>\n",
       "      <td>1982-10-01</td>\n",
       "      <td>47</td>\n",
       "      <td>No</td>\n",
       "      <td>For Profit</td>\n",
       "      <td>NaN</td>\n",
       "      <td>NaN</td>\n",
       "    </tr>\n",
       "    <tr>\n",
       "      <th>4318</th>\n",
       "      <td>BOYD'S KINSMAN HOME</td>\n",
       "      <td>36G015</td>\n",
       "      <td>Intermediate Care Facilities for Individuals w...</td>\n",
       "      <td>(V) Chicago</td>\n",
       "      <td>OH</td>\n",
       "      <td>7929 STATE ROUTE 5\\nKINSMAN, OH 44428</td>\n",
       "      <td>330 876-5581</td>\n",
       "      <td>1976-08-21</td>\n",
       "      <td>40</td>\n",
       "      <td>No</td>\n",
       "      <td>Government</td>\n",
       "      <td>NaN</td>\n",
       "      <td>NaN</td>\n",
       "    </tr>\n",
       "    <tr>\n",
       "      <th>4319</th>\n",
       "      <td>HATTIE LARLHAM CENTER FOR CHILDREN WITH DISABI...</td>\n",
       "      <td>36G017</td>\n",
       "      <td>Intermediate Care Facilities for Individuals w...</td>\n",
       "      <td>(V) Chicago</td>\n",
       "      <td>OH</td>\n",
       "      <td>9772 DIAGONAL RD\\nMANTUA, OH 44255</td>\n",
       "      <td>330 274-2272</td>\n",
       "      <td>1976-05-01</td>\n",
       "      <td>124</td>\n",
       "      <td>No</td>\n",
       "      <td>Non-Profit</td>\n",
       "      <td>NaN</td>\n",
       "      <td>NaN</td>\n",
       "    </tr>\n",
       "    <tr>\n",
       "      <th>4320</th>\n",
       "      <td>STEWART LODGE</td>\n",
       "      <td>36G019</td>\n",
       "      <td>Intermediate Care Facilities for Individuals w...</td>\n",
       "      <td>(V) Chicago</td>\n",
       "      <td>OH</td>\n",
       "      <td>7774 WARNER RD\\nMADISON, OH 44057</td>\n",
       "      <td>440 428-7121</td>\n",
       "      <td>1975-03-01</td>\n",
       "      <td>49</td>\n",
       "      <td>No</td>\n",
       "      <td>For Profit</td>\n",
       "      <td>NaN</td>\n",
       "      <td>NaN</td>\n",
       "    </tr>\n",
       "    <tr>\n",
       "      <th>4321</th>\n",
       "      <td>LUTHER HOME OF MERCY</td>\n",
       "      <td>36G023</td>\n",
       "      <td>Intermediate Care Facilities for Individuals w...</td>\n",
       "      <td>(V) Chicago</td>\n",
       "      <td>OH</td>\n",
       "      <td>5810 N MAIN ST\\nWILLISTON, OH 43468</td>\n",
       "      <td>419 836-7741</td>\n",
       "      <td>1975-03-01</td>\n",
       "      <td>97</td>\n",
       "      <td>No</td>\n",
       "      <td>Non-Profit</td>\n",
       "      <td>NaN</td>\n",
       "      <td>NaN</td>\n",
       "    </tr>\n",
       "  </tbody>\n",
       "</table>\n",
       "</div>"
      ],
      "text/plain": [
       "                                                   name provider_id  \\\n",
       "4316                                         MANOR HOME      36G005   \n",
       "4318                                BOYD'S KINSMAN HOME      36G015   \n",
       "4319  HATTIE LARLHAM CENTER FOR CHILDREN WITH DISABI...      36G017   \n",
       "4320                                      STEWART LODGE      36G019   \n",
       "4321                               LUTHER HOME OF MERCY      36G023   \n",
       "\n",
       "                                                   type       region state  \\\n",
       "4316  Intermediate Care Facilities for Individuals w...  (V) Chicago    OH   \n",
       "4318  Intermediate Care Facilities for Individuals w...  (V) Chicago    OH   \n",
       "4319  Intermediate Care Facilities for Individuals w...  (V) Chicago    OH   \n",
       "4320  Intermediate Care Facilities for Individuals w...  (V) Chicago    OH   \n",
       "4321  Intermediate Care Facilities for Individuals w...  (V) Chicago    OH   \n",
       "\n",
       "                                    address         phone particip_date  \\\n",
       "4316       246 N BROADWAY\\nGENEVA, OH 44041  440 466-1808    1982-10-01   \n",
       "4318  7929 STATE ROUTE 5\\nKINSMAN, OH 44428  330 876-5581    1976-08-21   \n",
       "4319     9772 DIAGONAL RD\\nMANTUA, OH 44255  330 274-2272    1976-05-01   \n",
       "4320      7774 WARNER RD\\nMADISON, OH 44057  440 428-7121    1975-03-01   \n",
       "4321    5810 N MAIN ST\\nWILLISTON, OH 43468  419 836-7741    1975-03-01   \n",
       "\n",
       "      certified_beds hospital_based ownership_type termination_code  \\\n",
       "4316              47             No     For Profit              NaN   \n",
       "4318              40             No     Government              NaN   \n",
       "4319             124             No     Non-Profit              NaN   \n",
       "4320              49             No     For Profit              NaN   \n",
       "4321              97             No     Non-Profit              NaN   \n",
       "\n",
       "     termination_date  \n",
       "4316              NaN  \n",
       "4318              NaN  \n",
       "4319              NaN  \n",
       "4320              NaN  \n",
       "4321              NaN  "
      ]
     },
     "execution_count": 8,
     "metadata": {},
     "output_type": "execute_result"
    }
   ],
   "source": [
    "oh_facs.head()"
   ]
  },
  {
   "cell_type": "markdown",
   "id": "66e7004b",
   "metadata": {},
   "source": [
    "## Additional Ohio Information\n",
    "\n",
    "BuzzFeed News received additional ownership information from Ohio through a public records request. That information is incorporated below."
   ]
  },
  {
   "cell_type": "code",
   "execution_count": 9,
   "id": "6d932969",
   "metadata": {},
   "outputs": [],
   "source": [
    "state_extra = pd.read_excel(RAW_OWNERSHIP_DIR + \"2021-11-08-ohio-ICF Licensee with Medicare ID -Public Request_.xlsx\")"
   ]
  },
  {
   "cell_type": "code",
   "execution_count": 10,
   "id": "b1e88ead",
   "metadata": {},
   "outputs": [],
   "source": [
    "extra_state_facs = (\n",
    "    state_extra\n",
    "    .loc[\n",
    "        lambda x: ~x[\"ICF Medicare ID\"].isin(state[\"MEDICARE_PROV_NUM\"])\n",
    "    ]\n",
    "    .rename(columns={\"Agency Name\": \"legal_owner\", \"ICF Medicare ID\": \"MEDICARE_PROV_NUM\"})\n",
    "    .assign(is_brightspring = lambda df: df[\"legal_owner\"] == \"ResCare Inc\") # ResCare is a subsidiary of BrightSpring\n",
    "    .assign(date_acquired = None)\n",
    "    [[\"MEDICARE_PROV_NUM\", \"legal_owner\", \"is_brightspring\", \"date_acquired\"]]\n",
    ")"
   ]
  },
  {
   "cell_type": "code",
   "execution_count": 11,
   "id": "ba3290af",
   "metadata": {},
   "outputs": [],
   "source": [
    "total_state = pd.concat([ state, extra_state_facs ])"
   ]
  },
  {
   "cell_type": "markdown",
   "id": "c6a818c0",
   "metadata": {},
   "source": [
    "There are four facilities without a legal owner. Three were opened in 2017, while the fourth was opened more recently. Additional research by BuzzFeed News found that 460 ABBE ROAD does belong to BrightSpring, and we will mark it as such below."
   ]
  },
  {
   "cell_type": "code",
   "execution_count": 12,
   "id": "982d0d04",
   "metadata": {},
   "outputs": [
    {
     "data": {
      "text/plain": [
       "4"
      ]
     },
     "execution_count": 12,
     "metadata": {},
     "output_type": "execute_result"
    }
   ],
   "source": [
    "len(oh_facs.loc[lambda x: ~x[\"provider_id\"].isin(total_state[\"MEDICARE_PROV_NUM\"])])"
   ]
  },
  {
   "cell_type": "code",
   "execution_count": 13,
   "id": "28dec2c7",
   "metadata": {},
   "outputs": [
    {
     "data": {
      "text/html": [
       "<div>\n",
       "<style scoped>\n",
       "    .dataframe tbody tr th:only-of-type {\n",
       "        vertical-align: middle;\n",
       "    }\n",
       "\n",
       "    .dataframe tbody tr th {\n",
       "        vertical-align: top;\n",
       "    }\n",
       "\n",
       "    .dataframe thead th {\n",
       "        text-align: right;\n",
       "    }\n",
       "</style>\n",
       "<table border=\"1\" class=\"dataframe\">\n",
       "  <thead>\n",
       "    <tr style=\"text-align: right;\">\n",
       "      <th></th>\n",
       "      <th>name</th>\n",
       "      <th>provider_id</th>\n",
       "      <th>address</th>\n",
       "      <th>particip_date</th>\n",
       "      <th>termination_date</th>\n",
       "    </tr>\n",
       "  </thead>\n",
       "  <tbody>\n",
       "    <tr>\n",
       "      <th>4517</th>\n",
       "      <td>CHENITA GROUP HOME</td>\n",
       "      <td>36G385</td>\n",
       "      <td>245 WEST FOURTH STREET\\nMANSFIELD, OH 44903</td>\n",
       "      <td>1990-01-25</td>\n",
       "      <td>2017-03-03</td>\n",
       "    </tr>\n",
       "    <tr>\n",
       "      <th>4688</th>\n",
       "      <td>YOUNGSTOWN DEVELOPMENTAL CENTER</td>\n",
       "      <td>36G589</td>\n",
       "      <td>4891 EAST MINERAL RIDGE ROAD\\nMINERAL RIDGE, O...</td>\n",
       "      <td>2003-05-30</td>\n",
       "      <td>2017-06-30</td>\n",
       "    </tr>\n",
       "    <tr>\n",
       "      <th>4693</th>\n",
       "      <td>MONTGOMERY DEVELOPMENTAL CENTER</td>\n",
       "      <td>36G594</td>\n",
       "      <td>7650 TIMBERCREST DRIVE\\nHUBER HEIGHTS, OH 45424</td>\n",
       "      <td>2003-07-28</td>\n",
       "      <td>2017-06-30</td>\n",
       "    </tr>\n",
       "    <tr>\n",
       "      <th>4848</th>\n",
       "      <td>460 ABBE ROAD</td>\n",
       "      <td>36G756</td>\n",
       "      <td>460 ABBE ROAD\\nSHEFFIELD LAKE, OH 44054</td>\n",
       "      <td>2021-10-25</td>\n",
       "      <td>NaN</td>\n",
       "    </tr>\n",
       "  </tbody>\n",
       "</table>\n",
       "</div>"
      ],
      "text/plain": [
       "                                 name provider_id  \\\n",
       "4517               CHENITA GROUP HOME      36G385   \n",
       "4688  YOUNGSTOWN DEVELOPMENTAL CENTER      36G589   \n",
       "4693  MONTGOMERY DEVELOPMENTAL CENTER      36G594   \n",
       "4848                    460 ABBE ROAD      36G756   \n",
       "\n",
       "                                                address particip_date  \\\n",
       "4517        245 WEST FOURTH STREET\\nMANSFIELD, OH 44903    1990-01-25   \n",
       "4688  4891 EAST MINERAL RIDGE ROAD\\nMINERAL RIDGE, O...    2003-05-30   \n",
       "4693    7650 TIMBERCREST DRIVE\\nHUBER HEIGHTS, OH 45424    2003-07-28   \n",
       "4848            460 ABBE ROAD\\nSHEFFIELD LAKE, OH 44054    2021-10-25   \n",
       "\n",
       "     termination_date  \n",
       "4517       2017-03-03  \n",
       "4688       2017-06-30  \n",
       "4693       2017-06-30  \n",
       "4848              NaN  "
      ]
     },
     "execution_count": 13,
     "metadata": {},
     "output_type": "execute_result"
    }
   ],
   "source": [
    "(\n",
    "    oh_facs\n",
    "    .loc[\n",
    "        lambda x: ~x[\"provider_id\"]\n",
    "        .isin(\n",
    "            total_state[\"MEDICARE_PROV_NUM\"]\n",
    "        )\n",
    "    ][[\n",
    "        \"name\", \n",
    "        \"provider_id\", \n",
    "        \"address\", \n",
    "        \"particip_date\", \n",
    "        \"termination_date\"\n",
    "    ]]\n",
    ")"
   ]
  },
  {
   "cell_type": "code",
   "execution_count": 14,
   "id": "163cd913",
   "metadata": {},
   "outputs": [],
   "source": [
    "ohio_merged = (\n",
    "    pd\n",
    "    .merge(\n",
    "        oh_facs,\n",
    "        total_state,\n",
    "        how=\"left\",\n",
    "        left_on=\"provider_id\",\n",
    "        right_on=\"MEDICARE_PROV_NUM\"\n",
    "    )\n",
    ")"
   ]
  },
  {
   "cell_type": "code",
   "execution_count": 15,
   "id": "3ef50c7a",
   "metadata": {},
   "outputs": [],
   "source": [
    "def fill_is_brightspring(row):\n",
    "    if pd.isnull(row[\"is_brightspring\"]):\n",
    "        if row[\"name\"] == \"460 ABBE ROAD\": # This recently opened facility is owned by ResCare\n",
    "            return True\n",
    "        else:\n",
    "            return False\n",
    "    else:\n",
    "        return row[\"is_brightspring\"]"
   ]
  },
  {
   "cell_type": "code",
   "execution_count": 16,
   "id": "f3eeff19",
   "metadata": {},
   "outputs": [],
   "source": [
    "ohio_merged[\"is_brightspring\"] = ohio_merged.apply(lambda x: fill_is_brightspring(x), axis=1)"
   ]
  },
  {
   "cell_type": "code",
   "execution_count": 17,
   "id": "1b91e4a5",
   "metadata": {},
   "outputs": [
    {
     "data": {
      "text/html": [
       "<div>\n",
       "<style scoped>\n",
       "    .dataframe tbody tr th:only-of-type {\n",
       "        vertical-align: middle;\n",
       "    }\n",
       "\n",
       "    .dataframe tbody tr th {\n",
       "        vertical-align: top;\n",
       "    }\n",
       "\n",
       "    .dataframe thead th {\n",
       "        text-align: right;\n",
       "    }\n",
       "</style>\n",
       "<table border=\"1\" class=\"dataframe\">\n",
       "  <thead>\n",
       "    <tr style=\"text-align: right;\">\n",
       "      <th></th>\n",
       "      <th>name</th>\n",
       "      <th>is_brightspring</th>\n",
       "    </tr>\n",
       "  </thead>\n",
       "  <tbody>\n",
       "    <tr>\n",
       "      <th>481</th>\n",
       "      <td>460 ABBE ROAD</td>\n",
       "      <td>True</td>\n",
       "    </tr>\n",
       "  </tbody>\n",
       "</table>\n",
       "</div>"
      ],
      "text/plain": [
       "              name  is_brightspring\n",
       "481  460 ABBE ROAD             True"
      ]
     },
     "execution_count": 17,
     "metadata": {},
     "output_type": "execute_result"
    }
   ],
   "source": [
    "# Just checking it worked\n",
    "ohio_merged.loc[\n",
    "    lambda x: x[\"name\"] == \"460 ABBE ROAD\"\n",
    "][[\"name\", \"is_brightspring\"]]"
   ]
  },
  {
   "cell_type": "code",
   "execution_count": 18,
   "id": "7cb161d8",
   "metadata": {},
   "outputs": [],
   "source": [
    "ohio_merged[[\n",
    "    \"name\", \"provider_id\", \"type\", \"region\", \"state\", \"address\",\n",
    "    \"phone\", \"address\", \"particip_date\", \"certified_beds\",\n",
    "    \"hospital_based\", \"ownership_type\", \"termination_code\",\n",
    "    \"termination_date\", \"legal_owner\", \"is_brightspring\"\n",
    "]].to_csv(\"../../data/ownership/final/oh.csv\", index=None)"
   ]
  },
  {
   "cell_type": "markdown",
   "id": "12f08c29",
   "metadata": {},
   "source": [
    "---\n",
    "\n",
    "---\n",
    "\n",
    "---"
   ]
  }
 ],
 "metadata": {
  "kernelspec": {
   "display_name": "Python 3 (ipykernel)",
   "language": "python",
   "name": "python3"
  },
  "language_info": {
   "codemirror_mode": {
    "name": "ipython",
    "version": 3
   },
   "file_extension": ".py",
   "mimetype": "text/x-python",
   "name": "python",
   "nbconvert_exporter": "python",
   "pygments_lexer": "ipython3",
   "version": "3.8.1"
  }
 },
 "nbformat": 4,
 "nbformat_minor": 5
}
